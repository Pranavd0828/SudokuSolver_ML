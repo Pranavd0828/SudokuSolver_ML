{
  "nbformat": 4,
  "nbformat_minor": 0,
  "metadata": {
    "colab": {
      "name": "ML Sudoku Solver.ipynb",
      "provenance": [],
      "collapsed_sections": []
    },
    "kernelspec": {
      "name": "python3",
      "display_name": "Python 3"
    }
  },
  "cells": [
    {
      "cell_type": "code",
      "metadata": {
        "id": "bDNFKgrcMLdc"
      },
      "source": [
        "import numpy as np\n",
        "import pandas as pd\n",
        "import keras\n",
        "import keras.backend as K\n",
        "from keras.optimizers import Adam\n",
        "from keras.models import Sequential\n",
        "from keras.utils import Sequence\n",
        "from keras.layers import *\n",
        "import matplotlib.pyplot as plt\n",
        "from google.colab import files\n",
        "import io \n",
        "from google.colab import drive"
      ],
      "execution_count": null,
      "outputs": []
    },
    {
      "cell_type": "code",
      "metadata": {
        "colab": {
          "base_uri": "https://localhost:8080/"
        },
        "id": "Dtm8-I-QOfKT",
        "outputId": "ff0bb5d2-2818-4a26-cde6-876fd1ebf8ad"
      },
      "source": [
        "drive.mount(\"/content/drive\", force_remount=True)"
      ],
      "execution_count": null,
      "outputs": [
        {
          "output_type": "stream",
          "text": [
            "Mounted at /content/drive\n"
          ],
          "name": "stdout"
        }
      ]
    },
    {
      "cell_type": "code",
      "metadata": {
        "id": "oYqzb1kqXyHi"
      },
      "source": [
        "path = \"/content/drive/MyDrive/Projects 2021/Sudoku ML Solver/sudoku.csv\"\n",
        "df = pd.read_csv(path)"
      ],
      "execution_count": null,
      "outputs": []
    },
    {
      "cell_type": "code",
      "metadata": {
        "colab": {
          "base_uri": "https://localhost:8080/",
          "height": 204
        },
        "id": "yIGOGsflXyKa",
        "outputId": "28ba3af0-95db-4b85-a83e-3dc9ecf4d47c"
      },
      "source": [
        "df_sudoku = pd.DataFrame({\"quizzes\":df[\"puzzle\"],\n",
        "                          \"solutions\":df[\"solution\"]})\n",
        "df_sudoku.head(5)"
      ],
      "execution_count": null,
      "outputs": [
        {
          "output_type": "execute_result",
          "data": {
            "text/html": [
              "<div>\n",
              "<style scoped>\n",
              "    .dataframe tbody tr th:only-of-type {\n",
              "        vertical-align: middle;\n",
              "    }\n",
              "\n",
              "    .dataframe tbody tr th {\n",
              "        vertical-align: top;\n",
              "    }\n",
              "\n",
              "    .dataframe thead th {\n",
              "        text-align: right;\n",
              "    }\n",
              "</style>\n",
              "<table border=\"1\" class=\"dataframe\">\n",
              "  <thead>\n",
              "    <tr style=\"text-align: right;\">\n",
              "      <th></th>\n",
              "      <th>quizzes</th>\n",
              "      <th>solutions</th>\n",
              "    </tr>\n",
              "  </thead>\n",
              "  <tbody>\n",
              "    <tr>\n",
              "      <th>0</th>\n",
              "      <td>0700000430400096108006349000940520003584600200...</td>\n",
              "      <td>6795182435437296188216349577943521863584617292...</td>\n",
              "    </tr>\n",
              "    <tr>\n",
              "      <th>1</th>\n",
              "      <td>3010865040465210705000000014008000020803479000...</td>\n",
              "      <td>3719865248465213795924738614638197522853479167...</td>\n",
              "    </tr>\n",
              "    <tr>\n",
              "      <th>2</th>\n",
              "      <td>0483015603600080909106700030200009355090102006...</td>\n",
              "      <td>7483915623652487919126754834217869355894132766...</td>\n",
              "    </tr>\n",
              "    <tr>\n",
              "      <th>3</th>\n",
              "      <td>0083170000042051090000400703271609049014500000...</td>\n",
              "      <td>2983176457642851391539462783271689549814537266...</td>\n",
              "    </tr>\n",
              "    <tr>\n",
              "      <th>4</th>\n",
              "      <td>0408906300001368208007405190004670524500207002...</td>\n",
              "      <td>1428956379751368248367425193984671524513287962...</td>\n",
              "    </tr>\n",
              "  </tbody>\n",
              "</table>\n",
              "</div>"
            ],
            "text/plain": [
              "                                             quizzes                                          solutions\n",
              "0  0700000430400096108006349000940520003584600200...  6795182435437296188216349577943521863584617292...\n",
              "1  3010865040465210705000000014008000020803479000...  3719865248465213795924738614638197522853479167...\n",
              "2  0483015603600080909106700030200009355090102006...  7483915623652487919126754834217869355894132766...\n",
              "3  0083170000042051090000400703271609049014500000...  2983176457642851391539462783271689549814537266...\n",
              "4  0408906300001368208007405190004670524500207002...  1428956379751368248367425193984671524513287962..."
            ]
          },
          "metadata": {
            "tags": []
          },
          "execution_count": 4
        }
      ]
    },
    {
      "cell_type": "code",
      "metadata": {
        "colab": {
          "base_uri": "https://localhost:8080/"
        },
        "id": "4ewWHS76cGtL",
        "outputId": "60f50870-c810-4b27-973c-d3ac1bc8c861"
      },
      "source": [
        "print(\"Quiz:\\n\",np.array(list(map(int,list(df_sudoku['quizzes'][0])))).reshape(9,9))\n",
        "print(\"Solution:\\n\",np.array(list(map(int,list(df_sudoku['solutions'][0])))).reshape(9,9))"
      ],
      "execution_count": null,
      "outputs": [
        {
          "output_type": "stream",
          "text": [
            "Quiz:\n",
            " [[0 7 0 0 0 0 0 4 3]\n",
            " [0 4 0 0 0 9 6 1 0]\n",
            " [8 0 0 6 3 4 9 0 0]\n",
            " [0 9 4 0 5 2 0 0 0]\n",
            " [3 5 8 4 6 0 0 2 0]\n",
            " [0 0 0 8 0 0 5 3 0]\n",
            " [0 8 0 0 7 0 0 9 1]\n",
            " [9 0 2 1 0 0 0 0 5]\n",
            " [0 0 7 0 4 0 8 0 2]]\n",
            "Solution:\n",
            " [[6 7 9 5 1 8 2 4 3]\n",
            " [5 4 3 7 2 9 6 1 8]\n",
            " [8 2 1 6 3 4 9 5 7]\n",
            " [7 9 4 3 5 2 1 8 6]\n",
            " [3 5 8 4 6 1 7 2 9]\n",
            " [2 1 6 8 9 7 5 3 4]\n",
            " [4 8 5 2 7 6 3 9 1]\n",
            " [9 6 2 1 8 3 4 7 5]\n",
            " [1 3 7 9 4 5 8 6 2]]\n"
          ],
          "name": "stdout"
        }
      ]
    },
    {
      "cell_type": "code",
      "metadata": {
        "id": "c3S6yLqnceYP"
      },
      "source": [
        "class DataGenerator(Sequence):\n",
        "    def __init__(self, df,batch_size = 16,subset = \"train\",shuffle = False, info={}):\n",
        "        super().__init__()\n",
        "        self.df = df\n",
        "        self.batch_size = batch_size\n",
        "        self.shuffle = shuffle\n",
        "        self.subset = subset\n",
        "        self.info = info\n",
        "        \n",
        "        self.data_path = path\n",
        "        self.on_epoch_end()\n",
        "        \n",
        "    def __len__(self):\n",
        "        return int(np.floor(len(self.df)/self.batch_size))\n",
        "    def on_epoch_end(self):\n",
        "        self.indexes = np.arange(len(self.df))\n",
        "        if self.shuffle==True:\n",
        "            np.random.shuffle(self.indexes)\n",
        "            \n",
        "    def __getitem__(self,index):\n",
        "        X = np.empty((self.batch_size, 9,9,1))\n",
        "        y = np.empty((self.batch_size,81,1))\n",
        "        indexes = self.indexes[index*self.batch_size:(index+1)*self.batch_size]\n",
        "        for i,f in enumerate(self.df['quizzes'].iloc[indexes]):\n",
        "            self.info[index*self.batch_size+i]=f\n",
        "            X[i,] = (np.array(list(map(int,list(f)))).reshape((9,9,1))/9)-0.5\n",
        "        if self.subset == 'train': \n",
        "            for i,f in enumerate(self.df['solutions'].iloc[indexes]):\n",
        "                self.info[index*self.batch_size+i]=f\n",
        "                y[i,] = np.array(list(map(int,list(f)))).reshape((81,1)) - 1\n",
        "        if self.subset == 'train': return X, y\n",
        "        else: return X"
      ],
      "execution_count": null,
      "outputs": []
    },
    {
      "cell_type": "code",
      "metadata": {
        "id": "P_bRL6ufdBVK"
      },
      "source": [
        "model = Sequential()\n",
        "\n",
        "model.add(Conv2D(64, kernel_size=(3,3), activation='relu', padding='same', input_shape=(9,9,1)))\n",
        "model.add(BatchNormalization())\n",
        "model.add(Conv2D(64, kernel_size=(3,3), activation='relu', padding='same'))\n",
        "model.add(BatchNormalization())\n",
        "model.add(Conv2D(128, kernel_size=(1,1), activation='relu', padding='same'))\n",
        "\n",
        "model.add(Flatten())\n",
        "model.add(Dense(81*9))\n",
        "model.add(Reshape((-1, 9)))\n",
        "model.add(Activation('softmax'))\n",
        "\n",
        "adam = keras.optimizers.Adam(lr=.001)\n",
        "model.compile(loss='sparse_categorical_crossentropy', optimizer=adam, metrics=['accuracy'])"
      ],
      "execution_count": null,
      "outputs": []
    },
    {
      "cell_type": "code",
      "metadata": {
        "colab": {
          "base_uri": "https://localhost:8080/"
        },
        "id": "KAMcEKw-dBSP",
        "outputId": "e8671def-6749-4b4e-acb4-2e2ac963eeb2"
      },
      "source": [
        "model.summary()"
      ],
      "execution_count": null,
      "outputs": [
        {
          "output_type": "stream",
          "text": [
            "Model: \"sequential\"\n",
            "_________________________________________________________________\n",
            "Layer (type)                 Output Shape              Param #   \n",
            "=================================================================\n",
            "conv2d (Conv2D)              (None, 9, 9, 64)          640       \n",
            "_________________________________________________________________\n",
            "batch_normalization (BatchNo (None, 9, 9, 64)          256       \n",
            "_________________________________________________________________\n",
            "conv2d_1 (Conv2D)            (None, 9, 9, 64)          36928     \n",
            "_________________________________________________________________\n",
            "batch_normalization_1 (Batch (None, 9, 9, 64)          256       \n",
            "_________________________________________________________________\n",
            "conv2d_2 (Conv2D)            (None, 9, 9, 128)         8320      \n",
            "_________________________________________________________________\n",
            "flatten (Flatten)            (None, 10368)             0         \n",
            "_________________________________________________________________\n",
            "dense (Dense)                (None, 729)               7559001   \n",
            "_________________________________________________________________\n",
            "reshape (Reshape)            (None, 81, 9)             0         \n",
            "_________________________________________________________________\n",
            "activation (Activation)      (None, 81, 9)             0         \n",
            "=================================================================\n",
            "Total params: 7,605,401\n",
            "Trainable params: 7,605,145\n",
            "Non-trainable params: 256\n",
            "_________________________________________________________________\n"
          ],
          "name": "stdout"
        }
      ]
    },
    {
      "cell_type": "code",
      "metadata": {
        "id": "I0DyVnRJdBPV"
      },
      "source": [
        "train_idx = int(len(df_sudoku)*0.95)\n",
        "df_sudoku = df_sudoku.sample(frac=1).reset_index(drop=True)\n",
        "training_generator = DataGenerator(df_sudoku.iloc[:train_idx], subset = \"train\", batch_size=640)\n",
        "validation_generator = DataGenerator(df_sudoku.iloc[train_idx:], subset = \"train\",  batch_size=640)"
      ],
      "execution_count": null,
      "outputs": []
    },
    {
      "cell_type": "code",
      "metadata": {
        "colab": {
          "base_uri": "https://localhost:8080/"
        },
        "id": "ie0Obd_kdBJ5",
        "outputId": "bf155510-073d-40b6-e548-78f69ed36a44"
      },
      "source": [
        "training_generator.__getitem__(4)[0].shape, validation_generator.__getitem__(4)[0].shape"
      ],
      "execution_count": null,
      "outputs": [
        {
          "output_type": "execute_result",
          "data": {
            "text/plain": [
              "((640, 9, 9, 1), (640, 9, 9, 1))"
            ]
          },
          "metadata": {
            "tags": []
          },
          "execution_count": 10
        }
      ]
    },
    {
      "cell_type": "code",
      "metadata": {
        "id": "L5RLrsbUdA_m"
      },
      "source": [
        "from keras.callbacks import Callback, ModelCheckpoint, ReduceLROnPlateau\n",
        "filepath1=\"weights-improvement-{epoch:02d}-{val_accuracy:.2f}.hdf5\"\n",
        "filepath2 = \"best_weights.hdf5\"\n",
        "checkpoint1 = ModelCheckpoint(filepath1, monitor='val_accuracy', verbose=1, save_best_only=True, mode='max')\n",
        "checkpoint2 = ModelCheckpoint(filepath2, monitor='val_accuracy', verbose=1, save_best_only=True, mode='max')\n",
        "\n",
        "reduce_lr = ReduceLROnPlateau(\n",
        "    monitor='val_loss',\n",
        "    patience=3,\n",
        "    verbose=1,\n",
        "    min_lr=1e-6\n",
        ")\n",
        "callbacks_list = [checkpoint1,checkpoint2,reduce_lr]"
      ],
      "execution_count": null,
      "outputs": []
    },
    {
      "cell_type": "code",
      "metadata": {
        "colab": {
          "base_uri": "https://localhost:8080/"
        },
        "id": "QwvYZivO_Xv7",
        "outputId": "5734beca-cc15-48d0-b17f-197a8e2c274e"
      },
      "source": [
        "history = model.fit_generator(training_generator, \n",
        "                              validation_data = validation_generator, \n",
        "                              epochs = 1, \n",
        "                              verbose=1, \n",
        "                              callbacks=callbacks_list)"
      ],
      "execution_count": null,
      "outputs": [
        {
          "output_type": "stream",
          "text": [
            "/usr/local/lib/python3.6/dist-packages/tensorflow/python/keras/engine/training.py:1844: UserWarning: `Model.fit_generator` is deprecated and will be removed in a future version. Please use `Model.fit`, which supports generators.\n",
            "  warnings.warn('`Model.fit_generator` is deprecated and '\n"
          ],
          "name": "stderr"
        },
        {
          "output_type": "stream",
          "text": [
            "13359/13359 [==============================] - 13489s 1s/step - loss: 0.5718 - accuracy: 0.1129 - val_loss: 0.3785 - val_accuracy: 0.1106\n",
            "\n",
            "Epoch 00001: val_accuracy improved from -inf to 0.11057, saving model to weights-improvement-01-0.11.hdf5\n",
            "\n",
            "Epoch 00001: val_accuracy improved from -inf to 0.11057, saving model to best_weights.hdf5\n"
          ],
          "name": "stdout"
        }
      ]
    },
    {
      "cell_type": "code",
      "metadata": {
        "id": "XRVjyvcd_fS7"
      },
      "source": [
        "model.load_weights('best_weights.hdf5')"
      ],
      "execution_count": null,
      "outputs": []
    },
    {
      "cell_type": "markdown",
      "metadata": {
        "id": "cvbhIsMbN7T-"
      },
      "source": [
        "Now, we will fill one number at a time, which means that, we will pass the sudoku through the neural network one-time, check if the number fits, and then fill it in. Again, we will pass the sudoku for another number, check and then fill.\n",
        "\n",
        "This way, the neural network will get the help to gain context about the next vaccant number, based on previoulsy passed numbers."
      ]
    },
    {
      "cell_type": "code",
      "metadata": {
        "id": "jrVjP-pzhJqt"
      },
      "source": [
        "def norm(a):\n",
        "    return (a/9)-.5\n",
        "\n",
        "def denorm(a):\n",
        "    return (a+.5)*9"
      ],
      "execution_count": null,
      "outputs": []
    },
    {
      "cell_type": "code",
      "metadata": {
        "id": "8Of0ySiLSgSl"
      },
      "source": [
        "def inference_sudoku(sample):\n",
        "    feat = sample\n",
        "    \n",
        "    while(1):\n",
        "    \n",
        "        out = model.predict(feat.reshape((1,9,9,1)))  \n",
        "        out = out.squeeze()\n",
        "\n",
        "        pred = np.argmax(out, axis=1).reshape((9,9))+1 \n",
        "        prob = np.around(np.max(out, axis=1).reshape((9,9)), 2) \n",
        "        \n",
        "        feat = denorm(feat).reshape((9,9))\n",
        "        mask = (feat==0)\n",
        "     \n",
        "        if(mask.sum()==0):\n",
        "            break\n",
        "            \n",
        "        prob_new = prob*mask\n",
        "    \n",
        "        ind = np.argmax(prob_new)\n",
        "        x, y = (ind//9), (ind%9)\n",
        "\n",
        "        val = pred[x][y]\n",
        "        feat[x][y] = val\n",
        "        feat = norm(feat)\n",
        "    \n",
        "    return pred\n",
        "\n",
        "def test_accuracy(feats, labels):\n",
        "    \n",
        "    correct = 0\n",
        "    \n",
        "    for i,feat in enumerate(feats):\n",
        "        \n",
        "        pred = inference_sudoku(feat)\n",
        "        \n",
        "        true = labels[i].reshape((9,9))+1\n",
        "        \n",
        "        if(abs(true - pred).sum()==0):\n",
        "            correct += 1\n",
        "        \n",
        "    print(correct/feats.shape[0])"
      ],
      "execution_count": null,
      "outputs": []
    },
    {
      "cell_type": "code",
      "metadata": {
        "id": "4VaB5K1sSgOw"
      },
      "source": [
        "def solve_sudoku(game):\n",
        "    \n",
        "    game = game.replace('\\n', '')\n",
        "    game = game.replace(' ', '')\n",
        "    game = np.array([int(j) for j in game]).reshape((9,9,1))\n",
        "    game = norm(game)\n",
        "    game = inference_sudoku(game)\n",
        "    return game"
      ],
      "execution_count": null,
      "outputs": []
    },
    {
      "cell_type": "code",
      "metadata": {
        "colab": {
          "base_uri": "https://localhost:8080/"
        },
        "id": "wVyaUhdtSgLR",
        "outputId": "ddb1356b-3001-4d65-8b68-71c142faf852"
      },
      "source": [
        "new_game = '''\n",
        "          0 0 0 0 0 0 0 0 0\n",
        "          0 0 0 0 0 0 0 0 0\n",
        "          0 0 0 0 0 0 0 0 0\n",
        "          0 0 0 0 0 0 0 0 0\n",
        "          0 0 0 0 0 0 0 0 0\n",
        "          0 0 0 0 0 0 0 0 0\n",
        "          0 0 0 0 0 0 0 0 0\n",
        "          0 0 0 0 0 0 0 0 0\n",
        "          0 0 0 0 0 0 0 0 0\n",
        "      '''\n",
        "\n",
        "game = '''\n",
        "          0 0 0 7 0 0 0 9 6\n",
        "          0 0 3 0 6 9 1 7 8\n",
        "          0 0 7 2 0 0 5 0 0\n",
        "          0 7 5 0 0 0 0 0 0\n",
        "          9 0 1 0 0 0 3 0 0\n",
        "          0 0 0 0 0 0 0 0 0\n",
        "          0 0 9 0 0 0 0 0 1\n",
        "          3 1 8 0 2 0 4 0 7\n",
        "          2 4 0 0 0 5 0 0 0\n",
        "      '''\n",
        "\n",
        "game = solve_sudoku(game)\n",
        "\n",
        "print('solved puzzle:\\n')\n",
        "print(game)"
      ],
      "execution_count": null,
      "outputs": [
        {
          "output_type": "stream",
          "text": [
            "solved puzzle:\n",
            "\n",
            "[[1 8 4 7 5 3 2 9 6]\n",
            " [5 2 3 4 6 9 1 7 8]\n",
            " [6 9 7 2 1 8 5 4 3]\n",
            " [8 7 5 6 3 2 9 1 4]\n",
            " [9 6 1 5 4 7 3 8 2]\n",
            " [4 3 2 8 9 1 7 6 5]\n",
            " [7 5 9 3 8 4 6 2 1]\n",
            " [3 1 8 9 2 6 4 5 7]\n",
            " [2 4 6 1 7 5 8 3 9]]\n"
          ],
          "name": "stdout"
        }
      ]
    },
    {
      "cell_type": "code",
      "metadata": {
        "colab": {
          "base_uri": "https://localhost:8080/"
        },
        "id": "QTHFm6NoSgHg",
        "outputId": "d0b98240-524b-4873-e0c5-323f0ef61cea"
      },
      "source": [
        "np.sum(game, axis=1)"
      ],
      "execution_count": null,
      "outputs": [
        {
          "output_type": "execute_result",
          "data": {
            "text/plain": [
              "array([45, 45, 45, 45, 45, 45, 45, 45, 45])"
            ]
          },
          "metadata": {
            "tags": []
          },
          "execution_count": 21
        }
      ]
    },
    {
      "cell_type": "markdown",
      "metadata": {
        "id": "jzyJTRTdT7yr"
      },
      "source": [
        "The Naked Twin approach is the faster way to solve Sudoku.\n",
        "\n",
        "I refered the following article: Solving Sudoku using a naked twin strategy- [Visit Here!](https://medium.com/@anandpathak69/solving-sudoku-using-naked-twin-strategies-f7ed23ea867f)"
      ]
    },
    {
      "cell_type": "code",
      "metadata": {
        "id": "0p-0NCrLSf8_"
      },
      "source": [
        "import collections\n",
        "\n",
        "rows = 'ABCDEFGHI'\n",
        "cols = '123456789'\n",
        "\n",
        "def cross(A, B):\n",
        "    \"Cross product of elements in A and elements in B.\"\n",
        "    return [s + t for s in A for t in B]\n",
        "\n",
        "\n",
        "boxes = cross(rows, cols)\n",
        "row_units = [cross(r, cols) for r in rows]\n",
        "column_units = [cross(rows, c) for c in cols]\n",
        "square_units = [cross(rs, cs) for rs in ('ABC', 'DEF', 'GHI') for cs in ('123', '456', '789')]\n",
        "unitlist = row_units + column_units + square_units \n",
        "units = dict((s, [u for u in unitlist if s in u]) for s in boxes)\n",
        "peers = dict((s, set(sum(units[s], [])) - set([s])) for s in boxes)\n"
      ],
      "execution_count": null,
      "outputs": []
    },
    {
      "cell_type": "code",
      "metadata": {
        "id": "qLPK0tZ6UrnI"
      },
      "source": [
        "def assign_value(values, box, value):\n",
        "    values[box] = value\n",
        "    return values\n",
        "\n",
        "\n",
        "def naked_twins(values):\n",
        "    \n",
        "    for unit in unitlist:\n",
        "    \n",
        "        unit_values_counter = collections.Counter([values[box] for box in unit])\n",
        "        for twins, count in unit_values_counter.items():\n",
        "    \n",
        "            if 1 < count == len(twins):\n",
        "                for box in unit:\n",
        "                    if values[box] != twins and set(values[box]).intersection(set(twins)):\n",
        "                        for digit in twins:\n",
        "                            values = assign_value(values, box, values[box].replace(digit, ''))\n",
        "    return values\n",
        "\n",
        "\n",
        "def grid_values(grid):\n",
        "\n",
        "    chars = []\n",
        "    digits = '123456789'\n",
        "    for c in grid:\n",
        "        if c in digits:\n",
        "            chars.append(c)\n",
        "        if c == '0':\n",
        "            chars.append(digits)\n",
        "    assert len(chars) == 81\n",
        "    return dict(zip(boxes, chars))\n",
        "\n",
        "\n",
        "def display(values):\n",
        "    width = 1 + max(len(values[s]) for s in boxes)\n",
        "    line = '+'.join(['-' * (width * 3)] * 3)\n",
        "    for r in rows:\n",
        "        print(''.join(values[r + c].center(width) + ('|' if c in '36' else '')\n",
        "                      for c in cols))\n",
        "        if r in 'CF': print(line)\n",
        "    print"
      ],
      "execution_count": null,
      "outputs": []
    },
    {
      "cell_type": "code",
      "metadata": {
        "id": "1G7bYDB0Urip"
      },
      "source": [
        "def eliminate(values):\n",
        "    solved_values = [box for box in values.keys() if len(values[box]) == 1]\n",
        "    for box in solved_values:\n",
        "        digit = values[box]\n",
        "        for peer in peers[box]:\n",
        "            values[peer] = values[peer].replace(digit, '')\n",
        "    return values\n",
        "\n",
        "\n",
        "def only_choice(values):\n",
        "    for unit in unitlist:\n",
        "        for digit in '123456789':\n",
        "            dplaces = [box for box in unit if digit in values[box]]\n",
        "            if len(dplaces) == 1:\n",
        "                values[dplaces[0]] = digit\n",
        "    return values\n",
        "\n",
        "\n",
        "def reduce_puzzle(values):\n",
        "    stalled = False\n",
        "    while not stalled:\n",
        "        solved_values_before = len([box for box in values.keys() if len(values[box]) == 1])\n",
        "        values = eliminate(values)\n",
        "        values = only_choice(values)\n",
        "        values = naked_twins(values)\n",
        "        solved_values_after = len([box for box in values.keys() if len(values[box]) == 1])\n",
        "        stalled = solved_values_before == solved_values_after\n",
        "        if len([box for box in values.keys() if len(values[box]) == 0]):\n",
        "            #display(values)\n",
        "            return False\n",
        "    return values\n",
        "\n",
        "\n",
        "def search(values):\n",
        "    values = reduce_puzzle(values)\n",
        "    if values is False:\n",
        "        return False\n",
        "    if all(len(values[s]) == 1 for s in boxes):\n",
        "        return values\n",
        "    \n",
        "    min_possibility_box = min([box for box in boxes if len(values[box]) > 1])\n",
        "    \n",
        "    for digit in values[min_possibility_box]:\n",
        "        new_sudoku = values.copy()\n",
        "        new_sudoku[min_possibility_box] = digit\n",
        "        attempt = search(new_sudoku)\n",
        "        if attempt:\n",
        "            return attempt\n",
        "\n",
        "def solve2(grid):\n",
        "\n",
        "    values = grid_values(grid)\n",
        "    values = search(values)\n",
        "    return values"
      ],
      "execution_count": null,
      "outputs": []
    },
    {
      "cell_type": "code",
      "metadata": {
        "colab": {
          "base_uri": "https://localhost:8080/"
        },
        "id": "LhwSPDqV9BHt",
        "outputId": "e16bd0d1-d95d-443e-fa0a-30c9fa49919f"
      },
      "source": [
        "val_set = df_sudoku.iloc[:1000]\n",
        "\n",
        "\n",
        "from tqdm import tqdm\n",
        "quiz_list = list(val_set['quizzes'])\n",
        "sol_list = list(val_set['solutions'])\n",
        "val_quiz = []\n",
        "val_sol = []\n",
        "for i,j in tqdm(zip(quiz_list,sol_list)):\n",
        "    q = np.array(list(map(int,list(i)))).reshape(9,9)\n",
        "    s = np.array(list(map(int,list(j)))).reshape(9,9)\n",
        "    val_quiz.append(q)\n",
        "    val_sol.append(s)"
      ],
      "execution_count": null,
      "outputs": [
        {
          "output_type": "stream",
          "text": [
            "1000it [00:00, 20979.49it/s]\n"
          ],
          "name": "stderr"
        }
      ]
    },
    {
      "cell_type": "code",
      "metadata": {
        "colab": {
          "base_uri": "https://localhost:8080/"
        },
        "id": "RE-ogm6QU9Yk",
        "outputId": "34fe6c85-d73d-4a34-bd3c-9ee1ef391f36"
      },
      "source": [
        "count = 0\n",
        "for row in tqdm(df_sudoku.head(1000).iterrows()):\n",
        "    if (solve2(row[1][\"quizzes\"]) == grid_values(row[1][\"solutions\"])):\n",
        "        count+=1\n",
        "        \n",
        "print(\"Solved: {}/1,000 \\nAccuracy: {}%.\\n\".format(count,(count/1000.0)*100))"
      ],
      "execution_count": null,
      "outputs": [
        {
          "output_type": "stream",
          "text": [
            "1000it [00:03, 304.45it/s]"
          ],
          "name": "stderr"
        },
        {
          "output_type": "stream",
          "text": [
            "Solved: 1000/1,000 \n",
            "Accuracy: 100.0%.\n",
            "\n"
          ],
          "name": "stdout"
        },
        {
          "output_type": "stream",
          "text": [
            "\n"
          ],
          "name": "stderr"
        }
      ]
    },
    {
      "cell_type": "markdown",
      "metadata": {
        "id": "YuOM7cef9TLb"
      },
      "source": [
        "Conclusion:\n",
        "\n",
        "* While we know Neural network perform better in generic task, they are not very accurate in solving the Sudoku.\n",
        "* The best approach according to this experiment is Naked Twins approach. \n",
        "* There are more versions of this approach out there, which are even faster than the Naked Twins. They are called Naked Triplets and even Naked Quadruples.\n",
        "\n",
        "Thank you!"
      ]
    }
  ]
}