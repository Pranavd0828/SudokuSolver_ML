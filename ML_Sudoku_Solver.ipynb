{
  "nbformat": 4,
  "nbformat_minor": 0,
  "metadata": {
    "colab": {
      "name": "ML Sudoku Solver.ipynb",
      "provenance": [],
      "collapsed_sections": []
    },
    "kernelspec": {
      "name": "python3",
      "display_name": "Python 3"
    }
  },
  "cells": [
    {
      "cell_type": "code",
      "metadata": {
        "id": "bDNFKgrcMLdc"
      },
      "source": [
        "import numpy as np\n",
        "import pandas as pd\n",
        "import keras\n",
        "import keras.backend as K\n",
        "from keras.optimizers import Adam\n",
        "from keras.models import Sequential\n",
        "from keras.utils import Sequence\n",
        "from keras.layers import *\n",
        "import matplotlib.pyplot as plt\n",
        "from google.colab import files\n",
        "import io \n",
        "from google.colab import drive"
      ],
      "execution_count": 1,
      "outputs": []
    },
    {
      "cell_type": "code",
      "metadata": {
        "colab": {
          "base_uri": "https://localhost:8080/"
        },
        "id": "Dtm8-I-QOfKT",
        "outputId": "4d95d8ad-442c-4c41-e96c-3ac71ec8f694"
      },
      "source": [
        "drive.mount(\"/content/drive\", force_remount=True)"
      ],
      "execution_count": 2,
      "outputs": [
        {
          "output_type": "stream",
          "text": [
            "Mounted at /content/drive\n"
          ],
          "name": "stdout"
        }
      ]
    },
    {
      "cell_type": "code",
      "metadata": {
        "id": "oYqzb1kqXyHi"
      },
      "source": [
        "path = \"/content/drive/MyDrive/Projects 2021/Sudoku ML Solver/sudoku.csv\"\n",
        "df = pd.read_csv(path)"
      ],
      "execution_count": 3,
      "outputs": []
    },
    {
      "cell_type": "code",
      "metadata": {
        "colab": {
          "base_uri": "https://localhost:8080/",
          "height": 204
        },
        "id": "yIGOGsflXyKa",
        "outputId": "20cd4d45-d0f7-45ae-d295-2036465c8402"
      },
      "source": [
        "df_sudoku = pd.DataFrame({\"quizzes\":df[\"puzzle\"],\"solutions\":df[\"solution\"]})\n",
        "df_sudoku.head(5)"
      ],
      "execution_count": 4,
      "outputs": [
        {
          "output_type": "execute_result",
          "data": {
            "text/html": [
              "<div>\n",
              "<style scoped>\n",
              "    .dataframe tbody tr th:only-of-type {\n",
              "        vertical-align: middle;\n",
              "    }\n",
              "\n",
              "    .dataframe tbody tr th {\n",
              "        vertical-align: top;\n",
              "    }\n",
              "\n",
              "    .dataframe thead th {\n",
              "        text-align: right;\n",
              "    }\n",
              "</style>\n",
              "<table border=\"1\" class=\"dataframe\">\n",
              "  <thead>\n",
              "    <tr style=\"text-align: right;\">\n",
              "      <th></th>\n",
              "      <th>quizzes</th>\n",
              "      <th>solutions</th>\n",
              "    </tr>\n",
              "  </thead>\n",
              "  <tbody>\n",
              "    <tr>\n",
              "      <th>0</th>\n",
              "      <td>0700000430400096108006349000940520003584600200...</td>\n",
              "      <td>6795182435437296188216349577943521863584617292...</td>\n",
              "    </tr>\n",
              "    <tr>\n",
              "      <th>1</th>\n",
              "      <td>3010865040465210705000000014008000020803479000...</td>\n",
              "      <td>3719865248465213795924738614638197522853479167...</td>\n",
              "    </tr>\n",
              "    <tr>\n",
              "      <th>2</th>\n",
              "      <td>0483015603600080909106700030200009355090102006...</td>\n",
              "      <td>7483915623652487919126754834217869355894132766...</td>\n",
              "    </tr>\n",
              "    <tr>\n",
              "      <th>3</th>\n",
              "      <td>0083170000042051090000400703271609049014500000...</td>\n",
              "      <td>2983176457642851391539462783271689549814537266...</td>\n",
              "    </tr>\n",
              "    <tr>\n",
              "      <th>4</th>\n",
              "      <td>0408906300001368208007405190004670524500207002...</td>\n",
              "      <td>1428956379751368248367425193984671524513287962...</td>\n",
              "    </tr>\n",
              "  </tbody>\n",
              "</table>\n",
              "</div>"
            ],
            "text/plain": [
              "                                             quizzes                                          solutions\n",
              "0  0700000430400096108006349000940520003584600200...  6795182435437296188216349577943521863584617292...\n",
              "1  3010865040465210705000000014008000020803479000...  3719865248465213795924738614638197522853479167...\n",
              "2  0483015603600080909106700030200009355090102006...  7483915623652487919126754834217869355894132766...\n",
              "3  0083170000042051090000400703271609049014500000...  2983176457642851391539462783271689549814537266...\n",
              "4  0408906300001368208007405190004670524500207002...  1428956379751368248367425193984671524513287962..."
            ]
          },
          "metadata": {
            "tags": []
          },
          "execution_count": 4
        }
      ]
    },
    {
      "cell_type": "code",
      "metadata": {
        "colab": {
          "base_uri": "https://localhost:8080/"
        },
        "id": "4ewWHS76cGtL",
        "outputId": "a5beee79-19b8-47ef-9df4-19dcc6110f2e"
      },
      "source": [
        "print(\"Quiz:\\n\",np.array(list(map(int,list(df_sudoku['quizzes'][0])))).reshape(9,9))\n",
        "print(\"Solution:\\n\",np.array(list(map(int,list(df_sudoku['solutions'][0])))).reshape(9,9))"
      ],
      "execution_count": 5,
      "outputs": [
        {
          "output_type": "stream",
          "text": [
            "Quiz:\n",
            " [[0 7 0 0 0 0 0 4 3]\n",
            " [0 4 0 0 0 9 6 1 0]\n",
            " [8 0 0 6 3 4 9 0 0]\n",
            " [0 9 4 0 5 2 0 0 0]\n",
            " [3 5 8 4 6 0 0 2 0]\n",
            " [0 0 0 8 0 0 5 3 0]\n",
            " [0 8 0 0 7 0 0 9 1]\n",
            " [9 0 2 1 0 0 0 0 5]\n",
            " [0 0 7 0 4 0 8 0 2]]\n",
            "Solution:\n",
            " [[6 7 9 5 1 8 2 4 3]\n",
            " [5 4 3 7 2 9 6 1 8]\n",
            " [8 2 1 6 3 4 9 5 7]\n",
            " [7 9 4 3 5 2 1 8 6]\n",
            " [3 5 8 4 6 1 7 2 9]\n",
            " [2 1 6 8 9 7 5 3 4]\n",
            " [4 8 5 2 7 6 3 9 1]\n",
            " [9 6 2 1 8 3 4 7 5]\n",
            " [1 3 7 9 4 5 8 6 2]]\n"
          ],
          "name": "stdout"
        }
      ]
    },
    {
      "cell_type": "code",
      "metadata": {
        "id": "c3S6yLqnceYP"
      },
      "source": [
        "class DataGenerator(Sequence):\n",
        "    def __init__(self, df,batch_size = 16,subset = \"train\",shuffle = False, info={}):\n",
        "        super().__init__()\n",
        "        self.df = df\n",
        "        self.batch_size = batch_size\n",
        "        self.shuffle = shuffle\n",
        "        self.subset = subset\n",
        "        self.info = info\n",
        "        \n",
        "        self.data_path = path\n",
        "        self.on_epoch_end()\n",
        "        \n",
        "    def __len__(self):\n",
        "        return int(np.floor(len(self.df)/self.batch_size))\n",
        "    def on_epoch_end(self):\n",
        "        self.indexes = np.arange(len(self.df))\n",
        "        if self.shuffle==True:\n",
        "            np.random.shuffle(self.indexes)\n",
        "            \n",
        "    def __getitem__(self,index):\n",
        "        X = np.empty((self.batch_size, 9,9,1))\n",
        "        y = np.empty((self.batch_size,81,1))\n",
        "        indexes = self.indexes[index*self.batch_size:(index+1)*self.batch_size]\n",
        "        for i,f in enumerate(self.df['quizzes'].iloc[indexes]):\n",
        "            self.info[index*self.batch_size+i]=f\n",
        "            X[i,] = (np.array(list(map(int,list(f)))).reshape((9,9,1))/9)-0.5\n",
        "        if self.subset == 'train': \n",
        "            for i,f in enumerate(self.df['solutions'].iloc[indexes]):\n",
        "                self.info[index*self.batch_size+i]=f\n",
        "                y[i,] = np.array(list(map(int,list(f)))).reshape((81,1)) - 1\n",
        "        if self.subset == 'train': return X, y\n",
        "        else: return X"
      ],
      "execution_count": 6,
      "outputs": []
    },
    {
      "cell_type": "code",
      "metadata": {
        "id": "P_bRL6ufdBVK"
      },
      "source": [
        "model = Sequential()\n",
        "\n",
        "model.add(Conv2D(64, kernel_size=(3,3), activation='relu', padding='same', input_shape=(9,9,1)))\n",
        "model.add(BatchNormalization())\n",
        "model.add(Conv2D(64, kernel_size=(3,3), activation='relu', padding='same'))\n",
        "model.add(BatchNormalization())\n",
        "model.add(Conv2D(128, kernel_size=(1,1), activation='relu', padding='same'))\n",
        "\n",
        "model.add(Flatten())\n",
        "model.add(Dense(81*9))\n",
        "model.add(Reshape((-1, 9)))\n",
        "model.add(Activation('softmax'))\n",
        "\n",
        "adam = keras.optimizers.Adam(lr=.001)\n",
        "model.compile(loss='sparse_categorical_crossentropy', optimizer=adam, metrics=['accuracy'])"
      ],
      "execution_count": 7,
      "outputs": []
    },
    {
      "cell_type": "code",
      "metadata": {
        "colab": {
          "base_uri": "https://localhost:8080/"
        },
        "id": "KAMcEKw-dBSP",
        "outputId": "cde66ea9-ac86-4726-85c9-41b3e7c20e3f"
      },
      "source": [
        "model.summary()"
      ],
      "execution_count": 8,
      "outputs": [
        {
          "output_type": "stream",
          "text": [
            "Model: \"sequential\"\n",
            "_________________________________________________________________\n",
            "Layer (type)                 Output Shape              Param #   \n",
            "=================================================================\n",
            "conv2d (Conv2D)              (None, 9, 9, 64)          640       \n",
            "_________________________________________________________________\n",
            "batch_normalization (BatchNo (None, 9, 9, 64)          256       \n",
            "_________________________________________________________________\n",
            "conv2d_1 (Conv2D)            (None, 9, 9, 64)          36928     \n",
            "_________________________________________________________________\n",
            "batch_normalization_1 (Batch (None, 9, 9, 64)          256       \n",
            "_________________________________________________________________\n",
            "conv2d_2 (Conv2D)            (None, 9, 9, 128)         8320      \n",
            "_________________________________________________________________\n",
            "flatten (Flatten)            (None, 10368)             0         \n",
            "_________________________________________________________________\n",
            "dense (Dense)                (None, 729)               7559001   \n",
            "_________________________________________________________________\n",
            "reshape (Reshape)            (None, 81, 9)             0         \n",
            "_________________________________________________________________\n",
            "activation (Activation)      (None, 81, 9)             0         \n",
            "=================================================================\n",
            "Total params: 7,605,401\n",
            "Trainable params: 7,605,145\n",
            "Non-trainable params: 256\n",
            "_________________________________________________________________\n"
          ],
          "name": "stdout"
        }
      ]
    },
    {
      "cell_type": "code",
      "metadata": {
        "id": "I0DyVnRJdBPV"
      },
      "source": [
        ""
      ],
      "execution_count": 8,
      "outputs": []
    },
    {
      "cell_type": "code",
      "metadata": {
        "id": "ie0Obd_kdBJ5"
      },
      "source": [
        ""
      ],
      "execution_count": 8,
      "outputs": []
    },
    {
      "cell_type": "code",
      "metadata": {
        "id": "L5RLrsbUdA_m"
      },
      "source": [
        ""
      ],
      "execution_count": 8,
      "outputs": []
    }
  ]
}